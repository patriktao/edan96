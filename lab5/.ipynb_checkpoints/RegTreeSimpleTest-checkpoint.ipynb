{
 "cells": [
  {
   "cell_type": "code",
   "execution_count": 2,
   "id": "conservative-modem",
   "metadata": {},
   "outputs": [
    {
     "name": "stdout",
     "output_type": "stream",
     "text": [
      "{'wind': ['strong', 'weak'], 'airTemp': ['warm', 'cold'], 'humidity': ['normal', 'high'], 'sky': ['sunny', 'cloudy', 'rainy'], 'waterTemp': ['warm', 'cool'], 'forecast': ['same', 'change']}\n",
      "\n",
      "id: 0\n",
      "splitValue: -\n",
      "mse: 0.0\n",
      "samples: 4\n",
      "avgValue: 0.0\n",
      "{'id': 0, 'splitValue': '-', 'nextSplitAttribute': None, 'mse': 0.0, 'samples': 4, 'avgValue': 0.0, 'nodes': None}\n",
      "[0.0, 0.0, 0.0, 0.0]\n"
     ]
    }
   ],
   "source": [
    "import matplotlib.pyplot as plt\n",
    "import graphviz\n",
    "import numpy as np\n",
    "import ID3_reg\n",
    "import ConceptDataRegr as cp\n",
    "\n",
    "attributes, data, target, data2, target2 = cp.ConceptDataRegr().get_data()\n",
    "\n",
    "print( attributes)\n",
    "\n",
    "id3 = ID3_reg.ID3RegressionTreePredictor(maxDepth=10)\n",
    "\n",
    "myTree = id3.fit(data, target, attributes)\n",
    "print(myTree)\n",
    "plot = id3.makeDotData()\n",
    "plot.render(\"conceptDataRegressionTree\")\n",
    "predicted = id3.predict(data, myTree)\n",
    "print(predicted)\n",
    "\n"
   ]
  },
  {
   "cell_type": "code",
   "execution_count": null,
   "id": "catholic-revolution",
   "metadata": {},
   "outputs": [],
   "source": []
  },
  {
   "cell_type": "code",
   "execution_count": null,
   "id": "southern-mountain",
   "metadata": {},
   "outputs": [],
   "source": []
  }
 ],
 "metadata": {
  "kernelspec": {
   "display_name": "Python 3",
   "language": "python",
   "name": "python3"
  },
  "language_info": {
   "codemirror_mode": {
    "name": "ipython",
    "version": 3
   },
   "file_extension": ".py",
   "mimetype": "text/x-python",
   "name": "python",
   "nbconvert_exporter": "python",
   "pygments_lexer": "ipython3",
   "version": "3.8.7"
  }
 },
 "nbformat": 4,
 "nbformat_minor": 5
}
