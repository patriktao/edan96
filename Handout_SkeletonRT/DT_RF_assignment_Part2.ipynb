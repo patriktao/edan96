{
 "cells": [
  {
   "cell_type": "markdown",
   "metadata": {},
   "source": [
    "# Assignment 5\n",
    "## Decision Trees and Random Forests for Regression, Part 2\n",
    "\n",
    "### About this notebook\n",
    "\n",
    "The general description and instructions as well as questions for the work with Part 2 of the assignment (this notebook) are found in the Assignment description in Canvas!\n"
   ]
  },
  {
   "cell_type": "code",
   "execution_count": null,
   "metadata": {},
   "outputs": [],
   "source": [
    "# YOU DON'T HAVE TO RUN THIS IF EVERYTHING IS ALREADY INSTALLED CORRECTLY\n",
    "!pip3 install --upgrade pip\n",
    "!pip3 install graphviz\n",
    "!pip3 install dtreeviz\n",
    "!pip3 install numpy scipy\n",
    "\n",
    "!pip3 install ordered_set"
   ]
  },
  {
   "cell_type": "markdown",
   "metadata": {},
   "source": [
    "## Dataset(s)\n",
    "\n",
    "**Step 0:** First load the dataset you want to use. Ultimately, you should be working with the **California housing data**, but for quicker test runs, it might help to first start out with the Diabetes data. For an initial test that your implementation actually works correctly, you should use the **ConceptData**."
   ]
  },
  {
   "cell_type": "code",
   "execution_count": null,
   "metadata": {},
   "outputs": [],
   "source": [
    "from sklearn.datasets import load_diabetes\n",
    "from sklearn.datasets import fetch_california_housing\n",
    "from sklearn.model_selection import train_test_split \n",
    "import graphviz\n",
    "\n",
    "import ssl\n",
    "ssl._create_default_https_context = ssl._create_unverified_context\n",
    "\n",
    "test_case = 'concept'\n",
    "#test_case = 'california'\n",
    "#test_case = 'diabetes'\n",
    "\n",
    "if test_case == 'california':\n",
    "    dataset = fetch_california_housing()\n",
    "elif test_case == 'diabetes':\n",
    "    dataset = load_diabetes()\n",
    "elif test_case == 'concept':\n",
    "    print(\"running on toy data, actual data will be loaded later\")\n",
    "else:\n",
    "    raise ValueError('Unknown test case')\n",
    "\n"
   ]
  },
  {
   "cell_type": "markdown",
   "metadata": {},
   "source": [
    "If using real data, split the set into train, validation and test sets."
   ]
  },
  {
   "cell_type": "code",
   "execution_count": null,
   "metadata": {},
   "outputs": [],
   "source": [
    "if (test_case == 'california') or (test_case == 'diabetes'):\n",
    "    X = dataset.data\n",
    "    y = dataset.target\n",
    "\n",
    "    train_ratio = 0.70\n",
    "    validation_ratio = 0.15\n",
    "    test_ratio = 0.15\n",
    "    \n",
    "    X_train, X_test, y_train, y_test = train_test_split(X, y, test_size=1 - train_ratio, random_state=0)\n",
    "    X_val, X_test, y_val, y_test = train_test_split(X_test, y_test, test_size=test_ratio/(test_ratio + validation_ratio), random_state=0)\n",
    "    "
   ]
  },
  {
   "cell_type": "markdown",
   "metadata": {},
   "source": [
    "## Creating and evaluating an ID3-based Regression Tree\n",
    "\n",
    "The following cells provide some framework for creating / testing your own, ID3-based, regressor. To see that your tree is constructed correctly, some prints are provided (essentially from the lecture) within the handout directory, that are created with the \"ConceptData\" from the lecture. "
   ]
  },
  {
   "cell_type": "markdown",
   "metadata": {},
   "source": [
    "**Step 1:** To make experiments with categorical data, you need to discretize - bin - the data (this goes both for the 'california' and the 'diabetes' cases, for the toy data - 'concept' - case, this is naturally given, note that the data are only loaded below). \n",
    "In order to have the entire data set \"as is\" for the binning, you can prepare a binning rule on the original data (X), that you then apply to your train and test data sets. To make sure that you do not miss any possible attribute values, use the entire set (X) again when providing the categorical values (here bin indices) to the ID3 tree."
   ]
  },
  {
   "cell_type": "code",
   "execution_count": null,
   "metadata": {},
   "outputs": [],
   "source": [
    "from ConceptDataRegr import ConceptDataRegr\n",
    "import ConceptDataRegr as cd\n",
    "\n",
    "from sklearn.preprocessing import KBinsDiscretizer\n",
    "import numpy as np\n",
    "\n",
    "# For testing that you get the correct output from your own implementation, use the \"ConceptData\" data set:\n",
    "if test_case == 'concept' :\n",
    "    attributes, binned_X_train, y_train, binned_X_test, y_test = cd.ConceptDataRegr().get_data()\n",
    "    binned_X_val = []\n",
    "    y_val = []\n",
    "     \n",
    "else :\n",
    "    # you might want to try different numbers of bins\n",
    "    # inspect the data set description in part 1 to find suitable numbers \n",
    "    if test_case == 'california':\n",
    "        bins = [2,2,2,2,2,2,2,2]\n",
    "    elif test_case == 'diabetes':\n",
    "        bins = [2,2,2,2,2,2,2,2,2,2]\n",
    "        \n",
    "    # here you can test to use different strategies, see the KBinsDiscretizer documentation\n",
    "    binner = KBinsDiscretizer(n_bins=bins, encode='ordinal', strategy='kmeans')\n",
    "    binning_rule = binner.fit(X)\n",
    "    # use the binning rule\n",
    "    binned_X = binning_rule.transform(X).astype(int)\n",
    "    binned_X_train = binning_rule.transform(X_train).astype(int)\n",
    "    binned_X_val = binning_rule.transform(X_val).astype(int)\n",
    "    binned_X_test = binning_rule.transform(X_test).astype(int)\n",
    "\n",
    "    # create an attribute list with \"conceptual\" features/attributes\n",
    "    attributes = {}\n",
    "    i = 0\n",
    "    for attr in dataset.feature_names :\n",
    "        attributes[attr] = set(binned_X[:,i])\n",
    "        i+=1\n",
    "\n",
    "print(attributes)"
   ]
  },
  {
   "cell_type": "markdown",
   "metadata": {},
   "source": [
    "**Step 2:** Set up and fit the tree, create the dot-data for visualisation. Fill the stubbs for *findSplitAttr*, *calcMSE*, and *score* in *ID3_reg.py* and compare results against the sklearn implementation using different parameters for *max_depth* and *min_samples_leaf*"
   ]
  },
  {
   "cell_type": "code",
   "execution_count": null,
   "metadata": {},
   "outputs": [],
   "source": [
    "import ID3_reg\n",
    "\n",
    "# Now, set up the tree (inspect the ID3_reg class!)    \n",
    "id3 = ID3_reg.ID3RegressionTreePredictor()\n",
    "\n",
    "# visualising in the \"bubble\" format from the lecture\n",
    "myTree = id3.fit(binned_X_train, y_train, attributes)\n",
    "dot_data = id3.makeDotData().source\n",
    "graph = graphviz.Source(dot_data, format=\"pdf\")\n",
    "graph.render(test_case+\"_bubbles\")\n",
    "graph"
   ]
  },
  {
   "cell_type": "markdown",
   "metadata": {},
   "source": [
    "Do a prediction and scoring on the binned valuation and / or test data"
   ]
  },
  {
   "cell_type": "code",
   "execution_count": null,
   "metadata": {},
   "outputs": [],
   "source": [
    "predicted = id3.predict(binned_X_val)\n",
    "print(predicted)\n",
    "\n",
    "# As of now, the ID3_reg class does only provide a stubb of a score-method - please implement one according to\n",
    "# the description of DecisionTreeRegressor.score() for easier comparison with the scikit-learn trees!\n",
    "id3.score(binned_X_test, y_test)"
   ]
  },
  {
   "cell_type": "code",
   "execution_count": null,
   "metadata": {},
   "outputs": [],
   "source": [
    "# printing to squares if you want a tree that looks more like those from part 1 ;-)\n",
    "dot_data_pretty='digraph Tree {\\n'+\\\n",
    "    'node [shape=box'+\\\n",
    "    ', style=\"rounded\", color=\"black\"'+\\\n",
    "    ', fontname=\"helvetica\"] ;\\n'+\\\n",
    "    'graph [ranksep=equally, splines=polyline] ;\\n'+\\\n",
    "    'edge [fontname=\"helvetica\"] ;\\n'+\\\n",
    "    dot_data[9:]\n",
    "\n",
    "graph = graphviz.Source(dot_data_pretty, format=\"png\")\n",
    "graph.render(test_case+\"_pretty\")\n",
    "#graph.view()\n",
    "graph"
   ]
  },
  {
   "cell_type": "code",
   "execution_count": null,
   "metadata": {},
   "outputs": [],
   "source": []
  },
  {
   "cell_type": "code",
   "execution_count": null,
   "metadata": {},
   "outputs": [],
   "source": []
  }
 ],
 "metadata": {
  "kernelspec": {
   "display_name": "Python 3 (ipykernel)",
   "language": "python",
   "name": "python3"
  },
  "language_info": {
   "codemirror_mode": {
    "name": "ipython",
    "version": 3
   },
   "file_extension": ".py",
   "mimetype": "text/x-python",
   "name": "python",
   "nbconvert_exporter": "python",
   "pygments_lexer": "ipython3",
   "version": "3.8.7"
  },
  "vscode": {
   "interpreter": {
    "hash": "63f08e0be87bb1ec22e3a665002567369c2bb78585d8d1135c35fb08381ea5a6"
   }
  }
 },
 "nbformat": 4,
 "nbformat_minor": 2
}
