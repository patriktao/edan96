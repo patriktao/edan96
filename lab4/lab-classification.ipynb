{
 "cells": [
  {
   "cell_type": "markdown",
   "metadata": {},
   "source": [
    "# Classification: Language Detection\n",
    "\n",
    "Authors: Pierre Nugues and Marcus Klang"
   ]
  },
  {
   "cell_type": "markdown",
   "metadata": {},
   "source": [
    "In this programming assignment, you will design and train a classifier to predict the language of a text. More concretely, you will reimplement Google's _Compact language detector_ (CLD3) from a high-level description. Read the description here: https://github.com/google/cld3"
   ]
  },
  {
   "cell_type": "markdown",
   "metadata": {},
   "source": [
    "## Overview"
   ]
  },
  {
   "cell_type": "markdown",
   "metadata": {},
   "source": [
    "Your classifier will read a short text, typically a few words or a sentence, and output the probability for all languages observed during training. The text will have a variable length and will be encoded as a Unicode string.\n",
    "\n",
    "As dataset to train your models, you will use [Tatoeba](https://tatoeba.org/sv/), a collaborative, open, and free collection of sentences and translations."
   ]
  },
  {
   "cell_type": "markdown",
   "metadata": {},
   "source": [
    "You will break down the task into four steps:\n",
    "    \n",
    "  1. Data processing, converting the data into a machine-learnable representation\n",
    "  2. Try and evaluate a simple model, logistic regression. This will be your baseline.\n",
    "  3. Try and evaluate a deeper model inspired by Google's compact language detector, CLD3.\n",
    "  4. CLD3 includes an embedding vectorization. This last part is left as an optional exercise."
   ]
  },
  {
   "cell_type": "markdown",
   "metadata": {},
   "source": [
    "### The Model: CLD3"
   ]
  },
  {
   "cell_type": "markdown",
   "metadata": {},
   "source": [
    "CLD3 has three major characteristics:\n",
    "\n",
    "   * It uses **$n$-grams** and splits an input text like _banana_ into three feature vectors that include:\n",
    "       + Each unique character, unigrams ($n=1$)\n",
    "       + Each unique pair of characters obtained from a sliding window of size 2, bigrams ($n=2$)\n",
    "       + Each unique triple of characters obtained from a sliding window of size 3, trigrams ($n=3$)\n",
    "       + These feature sets map to a set of indices (integer value).\n",
    "   \n",
    "   * It **hashes each symbol** i.e. it encrypts the $n$-gram into a fixed range integer.\n",
    "       + This way of mapping features to indices is called feature hashing or the *hashing trick*\n",
    "       + It reduces the number of symbols.\n",
    "       + Constant memory requirements, depends on the hash function -- commonly only a few constants.\n",
    "       + It is an approximate method as collisions can and will occur. Adjusting the size of the feature space i.e. the number of features to hash to, the collision probability can be reduced.\n",
    "   \n",
    "   * For each value of $n$, 1, 2, and 3, CLD3 computes the relative frequencies of the $n$-grams and **use them as weights**. See the figure below.\n",
    "       + The model can map the input indices to embedding vectors (this part is optional)\n",
    "       + It then computes the **weighted average** of the embeddings (this part is optional)\n",
    "       + The model learns the embeddings during training (also optional)\n",
    "       \n",
    "The figure below shows the final architecture."
   ]
  },
  {
   "cell_type": "markdown",
   "metadata": {},
   "source": [
    "![Model overview](https://raw.githubusercontent.com/google/cld3/master/model.png)\n",
    "Image source: https://github.com/google/cld3"
   ]
  },
  {
   "cell_type": "markdown",
   "metadata": {},
   "source": [
    "## Dataset: Tatoeba"
   ]
  },
  {
   "cell_type": "markdown",
   "metadata": {},
   "source": [
    "Your instructors have downsampled Tatoeba to reduce training times and guarantee that all the students have the same datasets.\n",
    "* Link to datasets: https://github.com/pnugues/edan96/tree/main/classification%20lab\n",
    "* Link to preprocessing notebook: https://github.com/pnugues/edan96/blob/main/programs/5-tatoeba_eda_select.ipynb\n",
    "\n",
    "You are only required to process the small dataset. The larger one may take take and be difficult to process on small computers."
   ]
  },
  {
   "cell_type": "markdown",
   "metadata": {},
   "source": [
    "## Preliminaries"
   ]
  },
  {
   "cell_type": "code",
   "execution_count": null,
   "metadata": {},
   "outputs": [
    {
     "ename": "",
     "evalue": "",
     "output_type": "error",
     "traceback": [
      "\u001b[1;31mRunning cells with 'Python 3.13.0' requires the ipykernel package.\n",
      "\u001b[1;31mRun the following command to install 'ipykernel' into the Python environment. \n",
      "\u001b[1;31mCommand: '/opt/homebrew/bin/python3 -m pip install ipykernel -U --user --force-reinstall'"
     ]
    }
   ],
   "source": [
    "import random\n",
    "import hashlib\n",
    "from collections import Counter\n",
    "from tqdm import tqdm\n",
    "\n",
    "import torch\n",
    "from torch import nn\n",
    "from torch.utils.data import TensorDataset, DataLoader\n",
    "\n",
    "from sklearn.metrics import classification_report, confusion_matrix"
   ]
  },
  {
   "cell_type": "markdown",
   "metadata": {},
   "source": [
    "Uncomment these lines the first time run the notebook to download the dataset"
   ]
  },
  {
   "cell_type": "code",
   "execution_count": 2,
   "metadata": {},
   "outputs": [],
   "source": [
    "#!wget https://github.com/pnugues/edan96/raw/main/classification%20lab/small_dataset.zip\n",
    "#!wget https://github.com/pnugues/edan96/raw/main/classification%20lab/large_dataset.zip\n",
    "#!unzip -o small_dataset.zip\n",
    "#!unzip -o large_dataset.zip"
   ]
  },
  {
   "cell_type": "code",
   "execution_count": 3,
   "metadata": {},
   "outputs": [
    {
     "data": {
      "text/plain": [
       "<torch._C.Generator at 0x10dad95f0>"
      ]
     },
     "execution_count": 3,
     "metadata": {},
     "output_type": "execute_result"
    }
   ],
   "source": [
    "random.seed(4321)\n",
    "torch.manual_seed(4321)"
   ]
  },
  {
   "cell_type": "markdown",
   "metadata": {},
   "source": [
    "## Reading the Dataset"
   ]
  },
  {
   "cell_type": "code",
   "execution_count": 4,
   "metadata": {},
   "outputs": [],
   "source": [
    "FILENAME_TRAIN = 'train.tsv'\n",
    "FILENAME_VAL = 'val.tsv'\n",
    "FILENAME_TEST = 'test.tsv'"
   ]
  },
  {
   "cell_type": "code",
   "execution_count": 5,
   "metadata": {},
   "outputs": [],
   "source": [
    "SMALL_DATASET_PATH = 'small_dataset'\n",
    "LARGE_DATASET_PATH = 'large_dataset'"
   ]
  },
  {
   "cell_type": "markdown",
   "metadata": {},
   "source": [
    "## Settings\n",
    "You have here the most significant settings"
   ]
  },
  {
   "cell_type": "code",
   "execution_count": 6,
   "metadata": {},
   "outputs": [],
   "source": [
    "LARGE_DATASET = False # Use the small or large dataset\n",
    "REL_FREQ = True # How we represent the n-grams in the input vector: with their relative frequency or with a 1"
   ]
  },
  {
   "cell_type": "code",
   "execution_count": 68,
   "metadata": {},
   "outputs": [],
   "source": [
    "HIDDEN_LAYER = True  # Neural network with one hidden layer or logistic regression\n",
    "HIDDEN_DIM = 512 # Number of hidden dimensions of the neural network\n",
    "EPOCHS = 10 # Number of epochs\n",
    "BATCH_SIZE = 32 # How many examples we will use for an update in the gradient descent"
   ]
  },
  {
   "cell_type": "code",
   "execution_count": 69,
   "metadata": {},
   "outputs": [],
   "source": [
    "if LARGE_DATASET:\n",
    "    dataset_path = LARGE_DATASET_PATH\n",
    "else:\n",
    "    dataset_path = SMALL_DATASET_PATH\n",
    "    \n",
    "FILE_TRAIN = dataset_path + '/' + FILENAME_TRAIN\n",
    "FILE_VAL = dataset_path + '/' + FILENAME_VAL\n",
    "FILE_TEST = dataset_path + '/' + FILENAME_TEST"
   ]
  },
  {
   "cell_type": "markdown",
   "metadata": {},
   "source": [
    "We create a generator to read the datasets"
   ]
  },
  {
   "cell_type": "code",
   "execution_count": 70,
   "metadata": {},
   "outputs": [],
   "source": [
    "def file_reader(file):\n",
    "    with open(file, encoding='utf8', errors='ignore') as f:\n",
    "        for line in f:\n",
    "            row = line.strip()\n",
    "            yield tuple(row.split('\\t'))"
   ]
  },
  {
   "cell_type": "code",
   "execution_count": 71,
   "metadata": {},
   "outputs": [],
   "source": [
    "line_generator = file_reader(FILE_TRAIN)"
   ]
  },
  {
   "cell_type": "markdown",
   "metadata": {},
   "source": [
    "And we count the sentences per language"
   ]
  },
  {
   "cell_type": "code",
   "execution_count": 72,
   "metadata": {},
   "outputs": [],
   "source": [
    "lang_freqs = Counter(map(lambda x: x[1], line_generator))"
   ]
  },
  {
   "cell_type": "code",
   "execution_count": 73,
   "metadata": {},
   "outputs": [
    {
     "data": {
      "text/plain": [
       "[('rus', 886),\n",
       " ('mkd', 876),\n",
       " ('eng', 873),\n",
       " ('lat', 854),\n",
       " ('swc', 847),\n",
       " ('tur', 844),\n",
       " ('tlh', 843),\n",
       " ('hun', 838),\n",
       " ('vie', 832),\n",
       " ('epo', 830),\n",
       " ('jpn', 830),\n",
       " ('nld', 826),\n",
       " ('lfn', 824),\n",
       " ('deu', 821),\n",
       " ('ces', 814)]"
      ]
     },
     "execution_count": 73,
     "metadata": {},
     "output_type": "execute_result"
    }
   ],
   "source": [
    "lang_freqs.most_common(15)"
   ]
  },
  {
   "cell_type": "code",
   "execution_count": 74,
   "metadata": {},
   "outputs": [
    {
     "data": {
      "text/plain": [
       "['ara', 'ber', 'bul', 'ces', 'cmn', 'dan', 'deu', 'ell', 'eng', 'epo']"
      ]
     },
     "execution_count": 74,
     "metadata": {},
     "output_type": "execute_result"
    }
   ],
   "source": [
    "langs = sorted(list(set(lang_freqs.keys())))\n",
    "langs[:10]"
   ]
  },
  {
   "cell_type": "markdown",
   "metadata": {},
   "source": [
    "You will create an index of the languages of your dataset: Assign a number to each language. You will call it `idx2lang` and its type will be a dictionary."
   ]
  },
  {
   "cell_type": "code",
   "execution_count": 75,
   "metadata": {},
   "outputs": [],
   "source": [
    "# Write your code\n",
    "idx2lang = {idx:lang for idx, lang in enumerate(langs)}"
   ]
  },
  {
   "cell_type": "code",
   "execution_count": 76,
   "metadata": {},
   "outputs": [
    {
     "data": {
      "text/plain": [
       "{0: 'ara',\n",
       " 1: 'ber',\n",
       " 2: 'bul',\n",
       " 3: 'ces',\n",
       " 4: 'cmn',\n",
       " 5: 'dan',\n",
       " 6: 'deu',\n",
       " 7: 'ell',\n",
       " 8: 'eng',\n",
       " 9: 'epo',\n",
       " 10: 'fin',\n",
       " 11: 'fra',\n",
       " 12: 'hau',\n",
       " 13: 'heb',\n",
       " 14: 'hun',\n",
       " 15: 'ina',\n",
       " 16: 'ita',\n",
       " 17: 'jpn',\n",
       " 18: 'kab',\n",
       " 19: 'lat',\n",
       " 20: 'lfn',\n",
       " 21: 'lit',\n",
       " 22: 'mar',\n",
       " 23: 'mkd',\n",
       " 24: 'nld',\n",
       " 25: 'pes',\n",
       " 26: 'pol',\n",
       " 27: 'por',\n",
       " 28: 'ron',\n",
       " 29: 'rus',\n",
       " 30: 'spa',\n",
       " 31: 'srp',\n",
       " 32: 'swc',\n",
       " 33: 'swe',\n",
       " 34: 'tlh',\n",
       " 35: 'tok',\n",
       " 36: 'tur',\n",
       " 37: 'ukr',\n",
       " 38: 'vie'}"
      ]
     },
     "execution_count": 76,
     "metadata": {},
     "output_type": "execute_result"
    }
   ],
   "source": [
    "idx2lang"
   ]
  },
  {
   "cell_type": "markdown",
   "metadata": {},
   "source": [
    "Write the reverted `lang2idx` index to convert languages to indices. It is also a dictionary"
   ]
  },
  {
   "cell_type": "code",
   "execution_count": 77,
   "metadata": {},
   "outputs": [],
   "source": [
    "# Write your code\n",
    "lang2idx = {v:k for k, v in idx2lang.items()}"
   ]
  },
  {
   "cell_type": "code",
   "execution_count": 78,
   "metadata": {},
   "outputs": [
    {
     "data": {
      "text/plain": [
       "{'ara': 0,\n",
       " 'ber': 1,\n",
       " 'bul': 2,\n",
       " 'ces': 3,\n",
       " 'cmn': 4,\n",
       " 'dan': 5,\n",
       " 'deu': 6,\n",
       " 'ell': 7,\n",
       " 'eng': 8,\n",
       " 'epo': 9,\n",
       " 'fin': 10,\n",
       " 'fra': 11,\n",
       " 'hau': 12,\n",
       " 'heb': 13,\n",
       " 'hun': 14,\n",
       " 'ina': 15,\n",
       " 'ita': 16,\n",
       " 'jpn': 17,\n",
       " 'kab': 18,\n",
       " 'lat': 19,\n",
       " 'lfn': 20,\n",
       " 'lit': 21,\n",
       " 'mar': 22,\n",
       " 'mkd': 23,\n",
       " 'nld': 24,\n",
       " 'pes': 25,\n",
       " 'pol': 26,\n",
       " 'por': 27,\n",
       " 'ron': 28,\n",
       " 'rus': 29,\n",
       " 'spa': 30,\n",
       " 'srp': 31,\n",
       " 'swc': 32,\n",
       " 'swe': 33,\n",
       " 'tlh': 34,\n",
       " 'tok': 35,\n",
       " 'tur': 36,\n",
       " 'ukr': 37,\n",
       " 'vie': 38}"
      ]
     },
     "execution_count": 78,
     "metadata": {},
     "output_type": "execute_result"
    }
   ],
   "source": [
    "lang2idx"
   ]
  },
  {
   "cell_type": "markdown",
   "metadata": {},
   "source": [
    "## Data processing — convert the sentences into feature vectors"
   ]
  },
  {
   "cell_type": "markdown",
   "metadata": {},
   "source": [
    "For the context of this program, a feature is a string of 1 to 3 characters. \n",
    "In natural language processing, they are called $n$-grams as they can have a varying size and are created from a sliding window.\n",
    "\n",
    "Common sizes of $n$ have names unigrams ($n$=1), bigrams ($n$=2), and trigrams ($n$=3))\n",
    "\n",
    "To serve as input, we have to convert these $n$-grams to numbers. There are two common ways to encode features into indices:\n",
    " * Mapping each symbol to an index\n",
    "    + Exact and precise\n",
    "    + Can have high memory requirements with vast feature spaces as each known feature must be stored and be assigned a unique index.\n",
    "    + Slow, you need to precompute your feature space, convert the incoming data to an index and retain the mapping in memory at all times.\n",
    " * Hashing trick: hash the feature into a index\n",
    "    + Supports an arbitrary number of features with the caveat of collisions.\n",
    "    + Constant memory requirements\n",
    "    + Fast, any feature even an unknown one can be converted into a feature index\n",
    "    + However, if the feature space is too small, features will have many collisions. You have then to choose a good hash function and a feature space that is big enough\n",
    "    \n",
    "We will use the [hashing trick](https://en.wikipedia.org/wiki/Feature_hashing). In Python, `hash` is a function that converts any supported object into a number (hash code) but it is not reproducible across the sessions - it changes each time the interpreter is started.\n",
    "We have therefore provided a new function `reproducible_hash` that hashes a string but in a reproducible way.\n",
    "\n",
    "The number returned by `reproducible_hash` is big and needs to be converted into a limited space. This can be done with the use of the remainder of an integer division, the [modulo](https://en.wikipedia.org/wiki/Modulo_operation)."
   ]
  },
  {
   "cell_type": "markdown",
   "metadata": {},
   "source": [
    "### Extracting $n$-grams"
   ]
  },
  {
   "cell_type": "markdown",
   "metadata": {},
   "source": [
    "Create an $n$-gram function that returns the $n$-grams of a string. The $n$ value will be passed as an argument. You will optionally set the string in lower case (`lc` argument)."
   ]
  },
  {
   "cell_type": "code",
   "execution_count": 79,
   "metadata": {},
   "outputs": [],
   "source": [
    "# Write your code here\n",
    "def ngrams(sentence, n=1, lc=True):\n",
    "    ngram_l = []\n",
    "    letters = [c.lower() for c in sentence if c != ' ']\n",
    "    for i in range(len(letters)):\n",
    "        sub = letters[i : i + n]\n",
    "        gram = \"\".join(sub)\n",
    "        if len(sub) == n and gram != \" \":\n",
    "            ngram_l.append(gram)\n",
    "    return ngram_l"
   ]
  },
  {
   "cell_type": "code",
   "execution_count": 80,
   "metadata": {},
   "outputs": [
    {
     "data": {
      "text/plain": [
       "['ba', 'an', 'na', 'an', 'na']"
      ]
     },
     "execution_count": 80,
     "metadata": {},
     "output_type": "execute_result"
    }
   ],
   "source": [
    "ngrams(\"banana\", 2)"
   ]
  },
  {
   "cell_type": "code",
   "execution_count": 81,
   "metadata": {},
   "outputs": [],
   "source": [
    "def all_ngrams(sentence, max_ngram=3, lc=True):\n",
    "    all_ngram_list = []\n",
    "    for i in range(1, max_ngram + 1):\n",
    "        all_ngram_list += [ngrams(sentence, n=i, lc=lc)]\n",
    "    return all_ngram_list"
   ]
  },
  {
   "cell_type": "code",
   "execution_count": 82,
   "metadata": {},
   "outputs": [
    {
     "data": {
      "text/plain": [
       "[['b', 'a', 'n', 'a', 'n', 'a'],\n",
       " ['ba', 'an', 'na', 'an', 'na'],\n",
       " ['ban', 'ana', 'nan', 'ana']]"
      ]
     },
     "execution_count": 82,
     "metadata": {},
     "output_type": "execute_result"
    }
   ],
   "source": [
    "all_ngrams('banana')"
   ]
  },
  {
   "cell_type": "markdown",
   "metadata": {},
   "source": [
    "### Limiting the $n$-grams numbers"
   ]
  },
  {
   "cell_type": "markdown",
   "metadata": {},
   "source": [
    "We set the modulos"
   ]
  },
  {
   "cell_type": "code",
   "execution_count": 83,
   "metadata": {},
   "outputs": [],
   "source": [
    "if LARGE_DATASET:\n",
    "    MAX_CHARS = 2053\n",
    "    MAX_BIGRAMS = 4099\n",
    "    MAX_TRIGRAMS = 4099  #8192\n",
    "else:\n",
    "    MAX_CHARS = 521\n",
    "    MAX_BIGRAMS = 1031\n",
    "    MAX_TRIGRAMS = 1031 "
   ]
  },
  {
   "cell_type": "code",
   "execution_count": 84,
   "metadata": {},
   "outputs": [
    {
     "data": {
      "text/plain": [
       "2583"
      ]
     },
     "execution_count": 84,
     "metadata": {},
     "output_type": "execute_result"
    }
   ],
   "source": [
    "NUM_FEATURES = MAX_CHARS + MAX_BIGRAMS + MAX_TRIGRAMS\n",
    "NUM_FEATURES"
   ]
  },
  {
   "cell_type": "markdown",
   "metadata": {},
   "source": [
    "### Hash Codes"
   ]
  },
  {
   "cell_type": "code",
   "execution_count": 85,
   "metadata": {},
   "outputs": [],
   "source": [
    "def reproducible_hash(string):\n",
    "    \"\"\"\n",
    "    reproducible hash on any string\n",
    "    \n",
    "    Arguments:\n",
    "       string: python string object\n",
    "    \n",
    "    Returns:\n",
    "       signed int64\n",
    "    \"\"\"\n",
    "    \n",
    "    # We are using MD5 for speed not security.\n",
    "    h = hashlib.md5(string.encode(\"utf-8\"), usedforsecurity=False)\n",
    "    return int.from_bytes(h.digest()[0:8], 'big', signed=True)"
   ]
  },
  {
   "cell_type": "code",
   "execution_count": 86,
   "metadata": {},
   "outputs": [
    {
     "data": {
      "text/plain": [
       "[487, 876, 246, 876]"
      ]
     },
     "execution_count": 86,
     "metadata": {},
     "output_type": "execute_result"
    }
   ],
   "source": [
    "[reproducible_hash(x) % MAX_TRIGRAMS for x in all_ngrams('banana')[2]]"
   ]
  },
  {
   "cell_type": "code",
   "execution_count": 87,
   "metadata": {},
   "outputs": [],
   "source": [
    "MAXES = [MAX_CHARS, MAX_BIGRAMS, MAX_TRIGRAMS]"
   ]
  },
  {
   "cell_type": "markdown",
   "metadata": {},
   "source": [
    "Create a `hash_ngrams` function that creates a list of hash codes from a list of $n$-grams. As arguments, you will have the list of $n$-grams as well as the list of dividers (`MAXES`). See the example below"
   ]
  },
  {
   "cell_type": "code",
   "execution_count": 88,
   "metadata": {},
   "outputs": [],
   "source": [
    "# Write your code\n",
    "def hash_ngrams(ngrams, modulos):\n",
    "    hash_codes = []\n",
    "    for i in range(len(ngrams)):\n",
    "        hash_codes.append(\n",
    "            [reproducible_hash(ngram) % modulos[i] for ngram in ngrams[i]]\n",
    "        )\n",
    "    return hash_codes"
   ]
  },
  {
   "cell_type": "code",
   "execution_count": 89,
   "metadata": {},
   "outputs": [
    {
     "data": {
      "text/plain": [
       "[[25, 234, 310, 234, 310, 234],\n",
       " [994, 649, 808, 649, 808],\n",
       " [487, 876, 246, 876]]"
      ]
     },
     "execution_count": 89,
     "metadata": {},
     "output_type": "execute_result"
    }
   ],
   "source": [
    "hash_banana = hash_ngrams(all_ngrams('banana'), MAXES)\n",
    "hash_banana"
   ]
  },
  {
   "cell_type": "markdown",
   "metadata": {},
   "source": [
    "### Hash codes relative frequencies\n",
    "CLD3 associates the $n$-gram hash codes with their relative frequencies in the text. See the example in Google CLD3 page.\n",
    "\n",
    "Create a `rel_freqs` function that computes the frequencies from lists of hash codes. The input will be a list of three lists of hash codes, for the unigrams, bigrams, and trigrams. The output will be a list of a three dictionaries, where the keys will be the $n$-gram hash codes and the values, the relative frequency. See example. "
   ]
  },
  {
   "cell_type": "code",
   "execution_count": 90,
   "metadata": {},
   "outputs": [],
   "source": [
    "# Write your code\n",
    "def rel_freqs(lst):\n",
    "    freqs = dict()\n",
    "    total_ngrams = len(lst)\n",
    "    for ngram in lst:\n",
    "        if ngram in freqs:\n",
    "            freqs[ngram] += 1\n",
    "        else:\n",
    "            freqs[ngram] = 1\n",
    "    return {ngram: count / total_ngrams for ngram, count in freqs.items()}"
   ]
  },
  {
   "cell_type": "code",
   "execution_count": 91,
   "metadata": {},
   "outputs": [
    {
     "data": {
      "text/plain": [
       "[{25: 0.16666666666666666, 234: 0.5, 310: 0.3333333333333333},\n",
       " {994: 0.2, 649: 0.4, 808: 0.4},\n",
       " {487: 0.25, 876: 0.5, 246: 0.25}]"
      ]
     },
     "execution_count": 91,
     "metadata": {},
     "output_type": "execute_result"
    }
   ],
   "source": [
    "freqs_banana = [rel_freqs(x) for x in hash_banana]\n",
    "freqs_banana"
   ]
  },
  {
   "cell_type": "markdown",
   "metadata": {},
   "source": [
    "## Multihot vectors"
   ]
  },
  {
   "cell_type": "markdown",
   "metadata": {},
   "source": [
    "Write a `multihot` function that creates a torch vector of 0.0 and 1.0 from a dictionary of indices and frequencies. You will pass the size of the vector as an argument. All the indices in the dictionary will be set to 1.0 and the rest will be set to 0.0"
   ]
  },
  {
   "cell_type": "code",
   "execution_count": 92,
   "metadata": {},
   "outputs": [],
   "source": [
    "# Write your code here\n",
    "def multihot(idx_freq, max):\n",
    "    feat_vector = torch.zeros(max)\n",
    "    for idx in idx_freq:\n",
    "        feat_vector[idx] = 1\n",
    "\n",
    "    return feat_vector"
   ]
  },
  {
   "cell_type": "code",
   "execution_count": 93,
   "metadata": {},
   "outputs": [
    {
     "data": {
      "text/plain": [
       "tensor([0., 0., 0., 0., 0., 0., 0., 0., 0., 0., 0., 0., 0., 0., 0., 0., 0., 0.,\n",
       "        0., 0., 0., 0., 0., 0., 0., 1., 0., 0., 0., 0., 0., 0., 0., 0., 0., 0.,\n",
       "        0., 0., 0., 0., 0., 0., 0., 0., 0., 0., 0., 0., 0., 0., 0., 0., 0., 0.,\n",
       "        0., 0., 0., 0., 0., 0., 0., 0., 0., 0., 0., 0., 0., 0., 0., 0., 0., 0.,\n",
       "        0., 0., 0., 0., 0., 0., 0., 0., 0., 0., 0., 0., 0., 0., 0., 0., 0., 0.,\n",
       "        0., 0., 0., 0., 0., 0., 0., 0., 0., 0., 0., 0., 0., 0., 0., 0., 0., 0.,\n",
       "        0., 0., 0., 0., 0., 0., 0., 0., 0., 0., 0., 0., 0., 0., 0., 0., 0., 0.,\n",
       "        0., 0., 0., 0., 0., 0., 0., 0., 0., 0., 0., 0., 0., 0., 0., 0., 0., 0.,\n",
       "        0., 0., 0., 0., 0., 0., 0., 0., 0., 0., 0., 0., 0., 0., 0., 0., 0., 0.,\n",
       "        0., 0., 0., 0., 0., 0., 0., 0., 0., 0., 0., 0., 0., 0., 0., 0., 0., 0.,\n",
       "        0., 0., 0., 0., 0., 0., 0., 0., 0., 0., 0., 0., 0., 0., 0., 0., 0., 0.,\n",
       "        0., 0., 0., 0., 0., 0., 0., 0., 0., 0., 0., 0., 0., 0., 0., 0., 0., 0.,\n",
       "        0., 0., 0., 0., 0., 0., 0., 0., 0., 0., 0., 0., 0., 0., 0., 0., 0., 0.,\n",
       "        1., 0., 0., 0., 0., 0., 0., 0., 0., 0., 0., 0., 0., 0., 0., 0., 0., 0.,\n",
       "        0., 0., 0., 0., 0., 0., 0., 0., 0., 0., 0., 0., 0., 0., 0., 0., 0., 0.,\n",
       "        0., 0., 0., 0., 0., 0., 0., 0., 0., 0., 0., 0., 0., 0., 0., 0., 0., 0.,\n",
       "        0., 0., 0., 0., 0., 0., 0., 0., 0., 0., 0., 0., 0., 0., 0., 0., 0., 0.,\n",
       "        0., 0., 0., 0., 1., 0., 0., 0., 0., 0., 0., 0., 0., 0., 0., 0., 0., 0.,\n",
       "        0., 0., 0., 0., 0., 0., 0., 0., 0., 0., 0., 0., 0., 0., 0., 0., 0., 0.,\n",
       "        0., 0., 0., 0., 0., 0., 0., 0., 0., 0., 0., 0., 0., 0., 0., 0., 0., 0.,\n",
       "        0., 0., 0., 0., 0., 0., 0., 0., 0., 0., 0., 0., 0., 0., 0., 0., 0., 0.,\n",
       "        0., 0., 0., 0., 0., 0., 0., 0., 0., 0., 0., 0., 0., 0., 0., 0., 0., 0.,\n",
       "        0., 0., 0., 0., 0., 0., 0., 0., 0., 0., 0., 0., 0., 0., 0., 0., 0., 0.,\n",
       "        0., 0., 0., 0., 0., 0., 0., 0., 0., 0., 0., 0., 0., 0., 0., 0., 0., 0.,\n",
       "        0., 0., 0., 0., 0., 0., 0., 0., 0., 0., 0., 0., 0., 0., 0., 0., 0., 0.,\n",
       "        0., 0., 0., 0., 0., 0., 0., 0., 0., 0., 0., 0., 0., 0., 0., 0., 0., 0.,\n",
       "        0., 0., 0., 0., 0., 0., 0., 0., 0., 0., 0., 0., 0., 0., 0., 0., 0., 0.,\n",
       "        0., 0., 0., 0., 0., 0., 0., 0., 0., 0., 0., 0., 0., 0., 0., 0., 0., 0.,\n",
       "        0., 0., 0., 0., 0., 0., 0., 0., 0., 0., 0., 0., 0., 0., 0., 0., 0.])"
      ]
     },
     "execution_count": 93,
     "metadata": {},
     "output_type": "execute_result"
    }
   ],
   "source": [
    "mhot_char_banana = multihot(freqs_banana[0], MAX_CHARS)\n",
    "mhot_char_banana"
   ]
  },
  {
   "cell_type": "code",
   "execution_count": 94,
   "metadata": {},
   "outputs": [
    {
     "data": {
      "text/plain": [
       "tensor([0., 0., 0., 0., 0., 0., 0., 0., 0., 0., 0., 0., 0., 0., 0., 0., 0., 0.,\n",
       "        0., 0., 0., 0., 0., 0., 0., 1., 0., 0., 0., 0., 0., 0., 0., 0., 0., 0.,\n",
       "        0., 0., 0., 0., 0., 0., 0., 0., 0., 0., 0., 0., 0., 0., 0., 0., 0., 0.,\n",
       "        0., 0., 0., 0., 0., 0., 0., 0., 0., 0., 0., 0., 0., 0., 0., 0., 0., 0.,\n",
       "        0., 0., 0., 0., 0., 0., 0., 0., 0., 0., 0., 0., 0., 0., 0., 0., 0., 0.,\n",
       "        0., 0., 0., 0., 0., 0., 0., 0., 0., 0., 0., 0., 0., 0., 0., 0., 0., 0.,\n",
       "        0., 0., 0., 0., 0., 0., 0., 0., 0., 0., 0., 0., 0., 0., 0., 0., 0., 0.,\n",
       "        0., 0., 0., 0., 0., 0., 0., 0., 0., 0., 0., 0., 0., 0., 0., 0., 0., 0.,\n",
       "        0., 0., 0., 0., 0., 0., 0., 0., 0., 0., 0., 0., 0., 0., 0., 0., 0., 0.,\n",
       "        0., 0., 0., 0., 0., 0., 0., 0., 0., 0., 0., 0., 0., 0., 0., 0., 0., 0.,\n",
       "        0., 0., 0., 0., 0., 0., 0., 0., 0., 0., 0., 0., 0., 0., 0., 0., 0., 0.,\n",
       "        0., 0., 0., 0., 0., 0., 0., 0., 0., 0., 0., 0., 0., 0., 0., 0., 0., 0.,\n",
       "        0., 0., 0., 0., 0., 0., 0., 0., 0., 0., 0., 0., 0., 0., 0., 0., 0., 0.,\n",
       "        1., 0., 0., 0., 0., 0., 0., 0., 0., 0., 0., 0., 0., 0., 0., 0., 0., 0.,\n",
       "        0., 0., 0., 0., 0., 0., 0., 0., 0., 0., 0., 0., 0., 0., 0., 0., 0., 0.,\n",
       "        0., 0., 0., 0., 0., 0., 0., 0., 0., 0., 0., 0., 0., 0., 0., 0., 0., 0.,\n",
       "        0., 0., 0., 0., 0., 0., 0., 0., 0., 0., 0., 0., 0., 0., 0., 0., 0., 0.,\n",
       "        0., 0., 0., 0., 1., 0., 0., 0., 0., 0., 0., 0., 0., 0., 0., 0., 0., 0.,\n",
       "        0., 0., 0., 0., 0., 0., 0., 0., 0., 0., 0., 0., 0., 0., 0., 0., 0., 0.,\n",
       "        0., 0., 0., 0., 0., 0., 0., 0., 0., 0., 0., 0., 0., 0., 0., 0., 0., 0.,\n",
       "        0., 0., 0., 0., 0., 0., 0., 0., 0., 0., 0., 0., 0., 0., 0., 0., 0., 0.,\n",
       "        0., 0., 0., 0., 0., 0., 0., 0., 0., 0., 0., 0., 0., 0., 0., 0., 0., 0.,\n",
       "        0., 0., 0., 0., 0., 0., 0., 0., 0., 0., 0., 0., 0., 0., 0., 0., 0., 0.,\n",
       "        0., 0., 0., 0., 0., 0., 0., 0., 0., 0., 0., 0., 0., 0., 0., 0., 0., 0.,\n",
       "        0., 0., 0., 0., 0., 0., 0., 0., 0., 0., 0., 0., 0., 0., 0., 0., 0., 0.,\n",
       "        0., 0., 0., 0., 0., 0., 0., 0., 0., 0., 0., 0., 0., 0., 0., 0., 0., 0.,\n",
       "        0., 0., 0., 0., 0., 0., 0., 0., 0., 0., 0., 0., 0., 0., 0., 0., 0., 0.,\n",
       "        0., 0., 0., 0., 0., 0., 0., 0., 0., 0., 0., 0., 0., 0., 0., 0., 0., 0.,\n",
       "        0., 0., 0., 0., 0., 0., 0., 0., 0., 0., 0., 0., 0., 0., 0., 0., 0.])"
      ]
     },
     "execution_count": 94,
     "metadata": {},
     "output_type": "execute_result"
    }
   ],
   "source": [
    "mhot_char_banana = multihot(freqs_banana[0], MAX_CHARS)\n",
    "mhot_char_banana"
   ]
  },
  {
   "cell_type": "code",
   "execution_count": 95,
   "metadata": {},
   "outputs": [
    {
     "data": {
      "text/plain": [
       "tensor([[ 25],\n",
       "        [234],\n",
       "        [310]])"
      ]
     },
     "execution_count": 95,
     "metadata": {},
     "output_type": "execute_result"
    }
   ],
   "source": [
    "torch.nonzero(mhot_char_banana)"
   ]
  },
  {
   "cell_type": "code",
   "execution_count": 96,
   "metadata": {},
   "outputs": [
    {
     "data": {
      "text/plain": [
       "tensor([0., 0., 0.,  ..., 0., 0., 0.])"
      ]
     },
     "execution_count": 96,
     "metadata": {},
     "output_type": "execute_result"
    }
   ],
   "source": [
    "mhot_bigram_banana = multihot(freqs_banana[1], MAX_BIGRAMS)\n",
    "mhot_bigram_banana"
   ]
  },
  {
   "cell_type": "code",
   "execution_count": 97,
   "metadata": {},
   "outputs": [
    {
     "data": {
      "text/plain": [
       "tensor([[649],\n",
       "        [808],\n",
       "        [994]])"
      ]
     },
     "execution_count": 97,
     "metadata": {},
     "output_type": "execute_result"
    }
   ],
   "source": [
    "torch.nonzero(mhot_bigram_banana)"
   ]
  },
  {
   "cell_type": "code",
   "execution_count": 98,
   "metadata": {},
   "outputs": [
    {
     "data": {
      "text/plain": [
       "tensor([0., 0., 0.,  ..., 0., 0., 0.])"
      ]
     },
     "execution_count": 98,
     "metadata": {},
     "output_type": "execute_result"
    }
   ],
   "source": [
    "mhot_trigram_banana = multihot(freqs_banana[2], MAX_TRIGRAMS)\n",
    "mhot_trigram_banana"
   ]
  },
  {
   "cell_type": "code",
   "execution_count": 99,
   "metadata": {},
   "outputs": [
    {
     "data": {
      "text/plain": [
       "tensor([[246],\n",
       "        [487],\n",
       "        [876]])"
      ]
     },
     "execution_count": 99,
     "metadata": {},
     "output_type": "execute_result"
    }
   ],
   "source": [
    "torch.nonzero(mhot_trigram_banana)"
   ]
  },
  {
   "cell_type": "markdown",
   "metadata": {},
   "source": [
    "## Replacing Booleans with frequencies"
   ]
  },
  {
   "cell_type": "markdown",
   "metadata": {},
   "source": [
    "Write a `multihot_freq` function that creates a torch vector of frequencies from a dictionary of indices and frequencies. You will pass the size of the vector as an argument. All the indices in the dictionary will be set to the dictionary values (the relative frequencies) and the rest will be set to 0.0"
   ]
  },
  {
   "cell_type": "code",
   "execution_count": 100,
   "metadata": {},
   "outputs": [],
   "source": [
    "# Write your code\n",
    "def multihot_freq(idx_freq, max):\n",
    "    feat_vector = torch.zeros(max)\n",
    "    for idx, freq in idx_freq.items():\n",
    "        feat_vector[idx] = freq\n",
    "    return feat_vector"
   ]
  },
  {
   "cell_type": "code",
   "execution_count": 101,
   "metadata": {},
   "outputs": [
    {
     "data": {
      "text/plain": [
       "tensor([0.0000, 0.0000, 0.0000, 0.0000, 0.0000, 0.0000, 0.0000, 0.0000, 0.0000,\n",
       "        0.0000, 0.0000, 0.0000, 0.0000, 0.0000, 0.0000, 0.0000, 0.0000, 0.0000,\n",
       "        0.0000, 0.0000, 0.0000, 0.0000, 0.0000, 0.0000, 0.0000, 0.1667, 0.0000,\n",
       "        0.0000, 0.0000, 0.0000, 0.0000, 0.0000, 0.0000, 0.0000, 0.0000, 0.0000,\n",
       "        0.0000, 0.0000, 0.0000, 0.0000, 0.0000, 0.0000, 0.0000, 0.0000, 0.0000,\n",
       "        0.0000, 0.0000, 0.0000, 0.0000, 0.0000, 0.0000, 0.0000, 0.0000, 0.0000,\n",
       "        0.0000, 0.0000, 0.0000, 0.0000, 0.0000, 0.0000, 0.0000, 0.0000, 0.0000,\n",
       "        0.0000, 0.0000, 0.0000, 0.0000, 0.0000, 0.0000, 0.0000, 0.0000, 0.0000,\n",
       "        0.0000, 0.0000, 0.0000, 0.0000, 0.0000, 0.0000, 0.0000, 0.0000, 0.0000,\n",
       "        0.0000, 0.0000, 0.0000, 0.0000, 0.0000, 0.0000, 0.0000, 0.0000, 0.0000,\n",
       "        0.0000, 0.0000, 0.0000, 0.0000, 0.0000, 0.0000, 0.0000, 0.0000, 0.0000,\n",
       "        0.0000, 0.0000, 0.0000, 0.0000, 0.0000, 0.0000, 0.0000, 0.0000, 0.0000,\n",
       "        0.0000, 0.0000, 0.0000, 0.0000, 0.0000, 0.0000, 0.0000, 0.0000, 0.0000,\n",
       "        0.0000, 0.0000, 0.0000, 0.0000, 0.0000, 0.0000, 0.0000, 0.0000, 0.0000,\n",
       "        0.0000, 0.0000, 0.0000, 0.0000, 0.0000, 0.0000, 0.0000, 0.0000, 0.0000,\n",
       "        0.0000, 0.0000, 0.0000, 0.0000, 0.0000, 0.0000, 0.0000, 0.0000, 0.0000,\n",
       "        0.0000, 0.0000, 0.0000, 0.0000, 0.0000, 0.0000, 0.0000, 0.0000, 0.0000,\n",
       "        0.0000, 0.0000, 0.0000, 0.0000, 0.0000, 0.0000, 0.0000, 0.0000, 0.0000,\n",
       "        0.0000, 0.0000, 0.0000, 0.0000, 0.0000, 0.0000, 0.0000, 0.0000, 0.0000,\n",
       "        0.0000, 0.0000, 0.0000, 0.0000, 0.0000, 0.0000, 0.0000, 0.0000, 0.0000,\n",
       "        0.0000, 0.0000, 0.0000, 0.0000, 0.0000, 0.0000, 0.0000, 0.0000, 0.0000,\n",
       "        0.0000, 0.0000, 0.0000, 0.0000, 0.0000, 0.0000, 0.0000, 0.0000, 0.0000,\n",
       "        0.0000, 0.0000, 0.0000, 0.0000, 0.0000, 0.0000, 0.0000, 0.0000, 0.0000,\n",
       "        0.0000, 0.0000, 0.0000, 0.0000, 0.0000, 0.0000, 0.0000, 0.0000, 0.0000,\n",
       "        0.0000, 0.0000, 0.0000, 0.0000, 0.0000, 0.0000, 0.0000, 0.0000, 0.0000,\n",
       "        0.0000, 0.0000, 0.0000, 0.0000, 0.0000, 0.0000, 0.0000, 0.0000, 0.0000,\n",
       "        0.5000, 0.0000, 0.0000, 0.0000, 0.0000, 0.0000, 0.0000, 0.0000, 0.0000,\n",
       "        0.0000, 0.0000, 0.0000, 0.0000, 0.0000, 0.0000, 0.0000, 0.0000, 0.0000,\n",
       "        0.0000, 0.0000, 0.0000, 0.0000, 0.0000, 0.0000, 0.0000, 0.0000, 0.0000,\n",
       "        0.0000, 0.0000, 0.0000, 0.0000, 0.0000, 0.0000, 0.0000, 0.0000, 0.0000,\n",
       "        0.0000, 0.0000, 0.0000, 0.0000, 0.0000, 0.0000, 0.0000, 0.0000, 0.0000,\n",
       "        0.0000, 0.0000, 0.0000, 0.0000, 0.0000, 0.0000, 0.0000, 0.0000, 0.0000,\n",
       "        0.0000, 0.0000, 0.0000, 0.0000, 0.0000, 0.0000, 0.0000, 0.0000, 0.0000,\n",
       "        0.0000, 0.0000, 0.0000, 0.0000, 0.0000, 0.0000, 0.0000, 0.0000, 0.0000,\n",
       "        0.0000, 0.0000, 0.0000, 0.0000, 0.3333, 0.0000, 0.0000, 0.0000, 0.0000,\n",
       "        0.0000, 0.0000, 0.0000, 0.0000, 0.0000, 0.0000, 0.0000, 0.0000, 0.0000,\n",
       "        0.0000, 0.0000, 0.0000, 0.0000, 0.0000, 0.0000, 0.0000, 0.0000, 0.0000,\n",
       "        0.0000, 0.0000, 0.0000, 0.0000, 0.0000, 0.0000, 0.0000, 0.0000, 0.0000,\n",
       "        0.0000, 0.0000, 0.0000, 0.0000, 0.0000, 0.0000, 0.0000, 0.0000, 0.0000,\n",
       "        0.0000, 0.0000, 0.0000, 0.0000, 0.0000, 0.0000, 0.0000, 0.0000, 0.0000,\n",
       "        0.0000, 0.0000, 0.0000, 0.0000, 0.0000, 0.0000, 0.0000, 0.0000, 0.0000,\n",
       "        0.0000, 0.0000, 0.0000, 0.0000, 0.0000, 0.0000, 0.0000, 0.0000, 0.0000,\n",
       "        0.0000, 0.0000, 0.0000, 0.0000, 0.0000, 0.0000, 0.0000, 0.0000, 0.0000,\n",
       "        0.0000, 0.0000, 0.0000, 0.0000, 0.0000, 0.0000, 0.0000, 0.0000, 0.0000,\n",
       "        0.0000, 0.0000, 0.0000, 0.0000, 0.0000, 0.0000, 0.0000, 0.0000, 0.0000,\n",
       "        0.0000, 0.0000, 0.0000, 0.0000, 0.0000, 0.0000, 0.0000, 0.0000, 0.0000,\n",
       "        0.0000, 0.0000, 0.0000, 0.0000, 0.0000, 0.0000, 0.0000, 0.0000, 0.0000,\n",
       "        0.0000, 0.0000, 0.0000, 0.0000, 0.0000, 0.0000, 0.0000, 0.0000, 0.0000,\n",
       "        0.0000, 0.0000, 0.0000, 0.0000, 0.0000, 0.0000, 0.0000, 0.0000, 0.0000,\n",
       "        0.0000, 0.0000, 0.0000, 0.0000, 0.0000, 0.0000, 0.0000, 0.0000, 0.0000,\n",
       "        0.0000, 0.0000, 0.0000, 0.0000, 0.0000, 0.0000, 0.0000, 0.0000, 0.0000,\n",
       "        0.0000, 0.0000, 0.0000, 0.0000, 0.0000, 0.0000, 0.0000, 0.0000, 0.0000,\n",
       "        0.0000, 0.0000, 0.0000, 0.0000, 0.0000, 0.0000, 0.0000, 0.0000, 0.0000,\n",
       "        0.0000, 0.0000, 0.0000, 0.0000, 0.0000, 0.0000, 0.0000, 0.0000, 0.0000,\n",
       "        0.0000, 0.0000, 0.0000, 0.0000, 0.0000, 0.0000, 0.0000, 0.0000, 0.0000,\n",
       "        0.0000, 0.0000, 0.0000, 0.0000, 0.0000, 0.0000, 0.0000, 0.0000, 0.0000,\n",
       "        0.0000, 0.0000, 0.0000, 0.0000, 0.0000, 0.0000, 0.0000, 0.0000, 0.0000,\n",
       "        0.0000, 0.0000, 0.0000, 0.0000, 0.0000, 0.0000, 0.0000, 0.0000])"
      ]
     },
     "execution_count": 101,
     "metadata": {},
     "output_type": "execute_result"
    }
   ],
   "source": [
    "freq_char_banana = multihot_freq(freqs_banana[0], MAX_CHARS)\n",
    "freq_char_banana"
   ]
  },
  {
   "cell_type": "code",
   "execution_count": 102,
   "metadata": {},
   "outputs": [
    {
     "data": {
      "text/plain": [
       "tensor([[ 25, 234, 310]])"
      ]
     },
     "execution_count": 102,
     "metadata": {},
     "output_type": "execute_result"
    }
   ],
   "source": [
    "torch.nonzero(freq_char_banana).T"
   ]
  },
  {
   "cell_type": "code",
   "execution_count": 103,
   "metadata": {},
   "outputs": [
    {
     "data": {
      "text/plain": [
       "tensor([[0.1667, 0.5000, 0.3333]])"
      ]
     },
     "execution_count": 103,
     "metadata": {},
     "output_type": "execute_result"
    }
   ],
   "source": [
    "freq_char_banana[torch.nonzero(freq_char_banana)].T"
   ]
  },
  {
   "cell_type": "markdown",
   "metadata": {},
   "source": [
    "## Creating $X$ and $\\mathbf{y}$ tensors"
   ]
  },
  {
   "cell_type": "markdown",
   "metadata": {},
   "source": [
    "We create a function to read the files and return the language and the sentence. We create the $X$ and $\\mathbf{y}$ tensors from them."
   ]
  },
  {
   "cell_type": "code",
   "execution_count": 104,
   "metadata": {},
   "outputs": [],
   "source": [
    "def read_sent_lang(file):\n",
    "    with open(file, encoding='utf8', errors='ignore') as f:\n",
    "        for line in f:\n",
    "            row = line.strip()\n",
    "            lang_tuple = tuple(row.split('\\t'))\n",
    "            yield lang_tuple[2], lang_tuple[1]   "
   ]
  },
  {
   "cell_type": "markdown",
   "metadata": {},
   "source": [
    "The code below creates a $X$ and $\\mathbf{y}$ tensors. Note that $X$ is a matrix and $\\mathbf{y}$, a vector."
   ]
  },
  {
   "cell_type": "code",
   "execution_count": 105,
   "metadata": {},
   "outputs": [],
   "source": [
    "def create_Xy(file, multihot_func, lang2idx):\n",
    "    X_l = []\n",
    "    y_symb = []\n",
    "    line_cnt = 0\n",
    "    for sentence, lang in read_sent_lang(file):\n",
    "        line_cnt += 1\n",
    "    X = torch.empty((line_cnt, NUM_FEATURES))\n",
    "    for i, (sentence, lang) in tqdm(enumerate(read_sent_lang(file))):\n",
    "        hashes = hash_ngrams(all_ngrams(sentence), MAXES)\n",
    "        hash_freq_l = map(rel_freqs, hashes)\n",
    "        x_row_l = []\n",
    "        for hash_freq_dict, max in zip(hash_freq_l, MAXES):\n",
    "            x_row_l += [multihot_func(hash_freq_dict, max)]\n",
    "        X[i, :] = torch.cat(x_row_l, -1)\n",
    "        y_symb += [lang]\n",
    "    y = torch.LongTensor(list(map(lang2idx.get, y_symb)))\n",
    "    return X, y"
   ]
  },
  {
   "cell_type": "code",
   "execution_count": 106,
   "metadata": {},
   "outputs": [
    {
     "name": "stderr",
     "output_type": "stream",
     "text": [
      "0it [00:00, ?it/s]"
     ]
    },
    {
     "name": "stderr",
     "output_type": "stream",
     "text": [
      "31376it [00:07, 4452.28it/s]\n",
      "3922it [00:00, 4528.66it/s]\n",
      "3923it [00:00, 4476.65it/s]\n"
     ]
    }
   ],
   "source": [
    "if REL_FREQ:\n",
    "    X_train, y_train =  create_Xy(FILE_TRAIN, multihot_freq, lang2idx) #training set\n",
    "    X_val, y_val =  create_Xy(FILE_VAL, multihot_freq, lang2idx)  #validation set\n",
    "    X_test, y_test =  create_Xy(FILE_TEST, multihot_freq, lang2idx) #test set\n",
    "else:\n",
    "    X_train, y_train =  create_Xy(FILE_TRAIN, multihot, lang2idx)\n",
    "    X_val, y_val =  create_Xy(FILE_VAL, multihot, lang2idx)\n",
    "    X_test, y_test =  create_Xy(FILE_TEST, multihot, lang2idx)"
   ]
  },
  {
   "cell_type": "code",
   "execution_count": 107,
   "metadata": {},
   "outputs": [
    {
     "data": {
      "text/plain": [
       "torch.Size([31376, 2583])"
      ]
     },
     "execution_count": 107,
     "metadata": {},
     "output_type": "execute_result"
    }
   ],
   "source": [
    "X_train.size()"
   ]
  },
  {
   "cell_type": "code",
   "execution_count": 108,
   "metadata": {},
   "outputs": [
    {
     "data": {
      "text/plain": [
       "tensor([37, 28, 25, 21, 15, 24,  9, 38, 21, 16])"
      ]
     },
     "execution_count": 108,
     "metadata": {},
     "output_type": "execute_result"
    }
   ],
   "source": [
    "y_train[:10]"
   ]
  },
  {
   "cell_type": "markdown",
   "metadata": {},
   "source": [
    "## Building a Classifier"
   ]
  },
  {
   "cell_type": "markdown",
   "metadata": {},
   "source": [
    "We create the classifier"
   ]
  },
  {
   "cell_type": "code",
   "execution_count": 109,
   "metadata": {},
   "outputs": [],
   "source": [
    "input_dim = X_train.size()[1]"
   ]
  },
  {
   "cell_type": "code",
   "execution_count": 110,
   "metadata": {},
   "outputs": [],
   "source": [
    "num_lang = len(idx2lang)"
   ]
  },
  {
   "cell_type": "markdown",
   "metadata": {},
   "source": [
    "Write two model architectures using `nn.Sequential`. One corresponding to logistic regression and the other with one hidden layer."
   ]
  },
  {
   "cell_type": "code",
   "execution_count": null,
   "metadata": {},
   "outputs": [],
   "source": [
    "# Write your code here\n",
    "if HIDDEN_LAYER:\n",
    "    model = nn.Sequential(\n",
    "        nn.Linear(NUM_FEATURES, HIDDEN_DIM),\n",
    "        nn.ReLU(),\n",
    "        nn.Linear(HIDDEN_DIM, num_lang),\n",
    "        nn.Sigmoid(),\n",
    "    )\n",
    "else:\n",
    "    model = nn.Sequential(nn.Linear(NUM_FEATURES, num_lang), nn.Sigmoid())"
   ]
  },
  {
   "cell_type": "code",
   "execution_count": 112,
   "metadata": {},
   "outputs": [
    {
     "data": {
      "text/plain": [
       "Sequential(\n",
       "  (0): Linear(in_features=2583, out_features=512, bias=True)\n",
       "  (1): ReLU()\n",
       "  (2): Linear(in_features=512, out_features=39, bias=True)\n",
       "  (3): Sigmoid()\n",
       ")"
      ]
     },
     "execution_count": 112,
     "metadata": {},
     "output_type": "execute_result"
    }
   ],
   "source": [
    "model"
   ]
  },
  {
   "cell_type": "markdown",
   "metadata": {},
   "source": [
    "We set the loss and the optimizer"
   ]
  },
  {
   "cell_type": "code",
   "execution_count": 113,
   "metadata": {},
   "outputs": [],
   "source": [
    "loss_fn = nn.CrossEntropyLoss()    # cross entropy loss\n",
    "optimizer = torch.optim.NAdam(model.parameters(), lr=0.01)"
   ]
  },
  {
   "cell_type": "markdown",
   "metadata": {},
   "source": [
    "## Loading the dataset\n",
    "We use a data loader to supply the training loop with batches"
   ]
  },
  {
   "cell_type": "code",
   "execution_count": 114,
   "metadata": {},
   "outputs": [],
   "source": [
    "dataset = TensorDataset(X_train, y_train)\n",
    "dataloader = DataLoader(dataset, batch_size=BATCH_SIZE, shuffle=True)"
   ]
  },
  {
   "cell_type": "markdown",
   "metadata": {},
   "source": [
    "## Training the classifier\n",
    "We have a classifier. We now train it on the dataset"
   ]
  },
  {
   "cell_type": "markdown",
   "metadata": {},
   "source": [
    "Write the training loop"
   ]
  },
  {
   "cell_type": "code",
   "execution_count": null,
   "metadata": {},
   "outputs": [
    {
     "name": "stderr",
     "output_type": "stream",
     "text": [
      "100%|██████████| 10/10 [00:46<00:00,  4.70s/it]\n"
     ]
    }
   ],
   "source": [
    "# Write your code here\n",
    "loss_train_history = []\n",
    "acc_train_history = []\n",
    "loss_val_history = []\n",
    "acc_val_history = []\n",
    "\n",
    "def get_predicted_labels(y_probs):\n",
    "    return torch.argmax(y_probs, dim=1)\n",
    "\n",
    "for epoch in tqdm(range(EPOCHS)):\n",
    "    model.train()\n",
    "    loss_train = 0  # training\n",
    "    acc_train = 0\n",
    "    loss_val = 0  # validation\n",
    "    acc_val = 0\n",
    "\n",
    "    # Training\n",
    "    for X_batch, y_batch in dataloader:\n",
    "        y_batch_pred = model(X_batch)\n",
    "        loss = loss_fn(y_batch_pred, y_batch)\n",
    "\n",
    "        optimizer.zero_grad()  # update with weights\n",
    "        loss.backward()\n",
    "        optimizer.step()\n",
    "\n",
    "        loss_train += loss.item()  # calc loss\n",
    "\n",
    "        y_pred = get_predicted_labels(y_batch_pred)\n",
    "        acc_train += torch.sum(y_pred == y_batch)\n",
    "\n",
    "    # Validation, to measure overfit/underfitting\n",
    "    model.eval()\n",
    "    with torch.no_grad():  # disable gradient calculation\n",
    "        y_val_pred = model(X_val)\n",
    "        loss_val += loss_fn(y_val_pred, y_val).item()\n",
    "        y_val_res = get_predicted_labels(y_val_pred)\n",
    "        acc_val += torch.sum(y_val_res == y_val)\n",
    "\n",
    "    # Add results to the corresponding arrays\n",
    "    loss_train_history.append(BATCH_SIZE * loss_train / len(y_train)) # normalize loss_train\n",
    "    acc_train_history.append(BATCH_SIZE * acc_train / len(y_train)) # normalize acc_train\n",
    "    loss_val_history.append(loss_val)\n",
    "    acc_val_history.append(acc_val / len(y_val)) # Getting avg accuracy over all languages"
   ]
  },
  {
   "cell_type": "markdown",
   "metadata": {},
   "source": [
    "We plot the loss"
   ]
  },
  {
   "cell_type": "code",
   "execution_count": 116,
   "metadata": {},
   "outputs": [
    {
     "data": {
      "image/png": "[encoded data removed]",
      "text/plain": [
       "<Figure size 640x480 with 1 Axes>"
      ]
     },
     "metadata": {},
     "output_type": "display_data"
    }
   ],
   "source": [
    "import matplotlib.pyplot as plt\n",
    "\n",
    "epochs = range(1, len(acc_val_history) + 1)\n",
    "plt.plot(epochs, acc_val_history, 'bo', label='Validation accuracy')\n",
    "plt.title('Validation accuracy')\n",
    "plt.legend()\n",
    "plt.show()"
   ]
  },
  {
   "cell_type": "code",
   "execution_count": 119,
   "metadata": {},
   "outputs": [
    {
     "data": {
      "text/plain": [
       "[2.7918243408203125,\n",
       " 2.7759780883789062,\n",
       " 2.770064353942871,\n",
       " 2.7697887420654297,\n",
       " 2.7694716453552246,\n",
       " 2.7690446376800537,\n",
       " 2.771442413330078,\n",
       " 2.7694473266601562,\n",
       " 2.7723276615142822,\n",
       " 2.7751073837280273]"
      ]
     },
     "execution_count": 119,
     "metadata": {},
     "output_type": "execute_result"
    }
   ],
   "source": [
    "loss_val_history"
   ]
  },
  {
   "cell_type": "markdown",
   "metadata": {},
   "source": [
    "## Predicting Validation Set"
   ]
  },
  {
   "cell_type": "code",
   "execution_count": 120,
   "metadata": {},
   "outputs": [
    {
     "name": "stdout",
     "output_type": "stream",
     "text": [
      "              precision    recall  f1-score   support\n",
      "\n",
      "         ara     0.5781    1.0000    0.7327       111\n",
      "         ber     0.5052    0.8750    0.6405       112\n",
      "         bul     0.3015    0.9899    0.4623        99\n",
      "         ces     0.9630    0.9369    0.9498       111\n",
      "         cmn     1.0000    0.9773    0.9885        88\n",
      "         dan     0.9082    0.8318    0.8683       107\n",
      "         deu     0.9231    0.9767    0.9492        86\n",
      "         ell     1.0000    1.0000    1.0000        96\n",
      "         eng     0.8974    0.9459    0.9211       111\n",
      "         epo     0.8699    0.9386    0.9030       114\n",
      "         fin     0.9634    0.8229    0.8876        96\n",
      "         fra     0.9556    0.8866    0.9198        97\n",
      "         hau     0.9789    0.8857    0.9300       105\n",
      "         heb     1.0000    1.0000    1.0000        76\n",
      "         hun     0.9681    0.9479    0.9579        96\n",
      "         ina     0.6341    0.8667    0.7324        90\n",
      "         ita     0.7092    0.9259    0.8032       108\n",
      "         jpn     1.0000    1.0000    1.0000       108\n",
      "         kab     0.4167    0.0935    0.1527       107\n",
      "         lat     0.8083    0.8818    0.8435       110\n",
      "         lfn     0.6842    0.5149    0.5876       101\n",
      "         lit     0.9677    0.9375    0.9524        96\n",
      "         mar     1.0000    1.0000    1.0000        98\n",
      "         mkd     0.0588    0.0098    0.0168       102\n",
      "         nld     0.9487    0.8132    0.8757        91\n",
      "         pes     1.0000    0.2358    0.3817       106\n",
      "         pol     0.9789    0.9490    0.9637        98\n",
      "         por     0.9038    0.8704    0.8868       108\n",
      "         ron     0.9802    0.9252    0.9519       107\n",
      "         rus     0.7738    0.6566    0.7104        99\n",
      "         spa     0.9286    0.6373    0.7558       102\n",
      "         srp     0.8723    0.3694    0.5190       111\n",
      "         swc     0.7328    0.9884    0.8416        86\n",
      "         swe     0.9250    0.8810    0.9024        84\n",
      "         tlh     0.9785    0.9479    0.9630        96\n",
      "         tok     0.9633    0.9906    0.9767       106\n",
      "         tur     0.9706    0.9340    0.9519       106\n",
      "         ukr     1.0000    0.5319    0.6944        94\n",
      "         vie     1.0000    0.9806    0.9902       103\n",
      "\n",
      "    accuracy                         0.8154      3922\n",
      "   macro avg     0.8474    0.8194    0.8093      3922\n",
      "weighted avg     0.8441    0.8154    0.8049      3922\n",
      "\n"
     ]
    }
   ],
   "source": [
    "print(classification_report(y_val, get_predicted_labels(y_val_pred), target_names=langs, digits=4))"
   ]
  },
  {
   "cell_type": "markdown",
   "metadata": {},
   "source": [
    "## Predicting the test set\n",
    "Predict the whole test set. Call the resulting vector `y_test_pred`."
   ]
  },
  {
   "cell_type": "code",
   "execution_count": 121,
   "metadata": {},
   "outputs": [],
   "source": [
    "# Write your code\n",
    "# Test\n",
    "with torch.no_grad():\n",
    "     y_test_values = model(X_test)\n",
    "     y_test_pred = get_predicted_labels(y_test_values)"
   ]
  },
  {
   "cell_type": "code",
   "execution_count": 122,
   "metadata": {},
   "outputs": [
    {
     "data": {
      "text/plain": [
       "tensor([32,  1,  1, 37, 19, 35, 32,  2, 12, 16])"
      ]
     },
     "execution_count": 122,
     "metadata": {},
     "output_type": "execute_result"
    }
   ],
   "source": [
    "y_test_pred[:10]"
   ]
  },
  {
   "cell_type": "code",
   "execution_count": 123,
   "metadata": {},
   "outputs": [
    {
     "name": "stdout",
     "output_type": "stream",
     "text": [
      "              precision    recall  f1-score   support\n",
      "\n",
      "         ara     0.5466    1.0000    0.7068        88\n",
      "         ber     0.5000    0.8571    0.6316        98\n",
      "         bul     0.2978    0.9500    0.4535       100\n",
      "         ces     0.9326    0.9121    0.9222        91\n",
      "         cmn     0.9712    0.9712    0.9712       104\n",
      "         dan     0.9417    0.8739    0.9065       111\n",
      "         deu     0.9362    0.9778    0.9565        90\n",
      "         ell     1.0000    1.0000    1.0000       106\n",
      "         eng     0.8585    0.9381    0.8966        97\n",
      "         epo     0.8571    0.9655    0.9081        87\n",
      "         fin     0.9806    0.9266    0.9528       109\n",
      "         fra     0.9759    0.8804    0.9257        92\n",
      "         hau     0.9767    0.8750    0.9231        96\n",
      "         heb     1.0000    1.0000    1.0000        99\n",
      "         hun     0.9894    0.9394    0.9637        99\n",
      "         ina     0.7308    0.9048    0.8085       105\n",
      "         ita     0.7246    0.9524    0.8230       105\n",
      "         jpn     0.9891    0.9785    0.9838        93\n",
      "         kab     0.6061    0.1942    0.2941       103\n",
      "         lat     0.8043    0.9024    0.8506        82\n",
      "         lfn     0.6500    0.4483    0.5306        87\n",
      "         lit     0.9405    0.8778    0.9080        90\n",
      "         mar     0.9913    1.0000    0.9956       114\n",
      "         mkd     0.0769    0.0108    0.0189        93\n",
      "         nld     0.9885    0.8600    0.9198       100\n",
      "         pes     1.0000    0.2396    0.3866        96\n",
      "         pol     0.9823    0.9823    0.9823       113\n",
      "         por     0.9057    0.8067    0.8533       119\n",
      "         ron     1.0000    0.8545    0.9216       110\n",
      "         rus     0.8144    0.7315    0.7707       108\n",
      "         spa     0.8810    0.6981    0.7789       106\n",
      "         srp     0.9149    0.3613    0.5181       119\n",
      "         swc     0.7578    1.0000    0.8622        97\n",
      "         swe     0.9083    0.9340    0.9209       106\n",
      "         tlh     0.9794    0.9406    0.9596       101\n",
      "         tok     0.9820    0.9820    0.9820       111\n",
      "         tur     0.9880    0.9425    0.9647        87\n",
      "         ukr     0.9880    0.6833    0.8079       120\n",
      "         vie     0.9890    0.9890    0.9890        91\n",
      "\n",
      "    accuracy                         0.8279      3923\n",
      "   macro avg     0.8553    0.8293    0.8192      3923\n",
      "weighted avg     0.8599    0.8279    0.8207      3923\n",
      "\n"
     ]
    }
   ],
   "source": [
    "print(classification_report(y_test, y_test_pred, target_names=langs, digits=4))"
   ]
  },
  {
   "cell_type": "code",
   "execution_count": 124,
   "metadata": {},
   "outputs": [
    {
     "name": "stdout",
     "output_type": "stream",
     "text": [
      "[[88  0  0 ...  0  0  0]\n",
      " [ 0 84  0 ...  0  0  0]\n",
      " [ 0  0 95 ...  0  1  0]\n",
      " ...\n",
      " [ 0  0  0 ... 82  0  0]\n",
      " [ 0  0 17 ...  0 82  0]\n",
      " [ 0  0  0 ...  0  0 90]]\n"
     ]
    }
   ],
   "source": [
    "print(confusion_matrix(y_test, y_test_pred))"
   ]
  },
  {
   "cell_type": "markdown",
   "metadata": {},
   "source": [
    "## Applying the Detector"
   ]
  },
  {
   "cell_type": "code",
   "execution_count": 125,
   "metadata": {},
   "outputs": [],
   "source": [
    "def encode(text, multihot_func, MAXES):\n",
    "    hashes = hash_ngrams(all_ngrams(text), MAXES)\n",
    "    hash_freq_l = map(rel_freqs, hashes)\n",
    "    x_row = torch.empty((0,))\n",
    "    for hash_freq_dict, max in zip(hash_freq_l, MAXES):\n",
    "        x_row = torch.hstack((x_row, multihot_func(hash_freq_dict, max)))\n",
    "    return x_row"
   ]
  },
  {
   "cell_type": "code",
   "execution_count": 126,
   "metadata": {},
   "outputs": [],
   "source": [
    "test_sents = ['Hi guys and girls!',\n",
    "'Hur mår du nu?', \n",
    "'Allt bra idag?', \n",
    "'Salut tout le monde !']"
   ]
  },
  {
   "cell_type": "code",
   "execution_count": 127,
   "metadata": {},
   "outputs": [
    {
     "name": "stdout",
     "output_type": "stream",
     "text": [
      "Hi guys and girls! eng\n",
      "Hur mår du nu? swe\n",
      "Allt bra idag? ita\n",
      "Salut tout le monde ! fra\n"
     ]
    }
   ],
   "source": [
    "for sent in test_sents:\n",
    "    if REL_FREQ:\n",
    "        row = encode(sent, multihot_freq, MAXES)\n",
    "    else:\n",
    "        row = encode(sent, multihot, MAXES)\n",
    "    print(sent, idx2lang[torch.argmax(model(row), dim=-1).item()])"
   ]
  },
  {
   "cell_type": "markdown",
   "metadata": {},
   "source": [
    "## Checking Values\n",
    "Your instructor used this piece of code to test his program\n",
    "\n",
    "line 30316 of training set: _Stanna!_\n",
    "\n",
    "The extracted values should match the vector"
   ]
  },
  {
   "cell_type": "code",
   "execution_count": 65,
   "metadata": {},
   "outputs": [
    {
     "data": {
      "text/plain": [
       "[{331: 0.14285714285714285,\n",
       "  432: 0.14285714285714285,\n",
       "  234: 0.2857142857142857,\n",
       "  310: 0.2857142857142857,\n",
       "  333: 0.14285714285714285},\n",
       " {12: 0.16666666666666666,\n",
       "  603: 0.16666666666666666,\n",
       "  649: 0.16666666666666666,\n",
       "  870: 0.16666666666666666,\n",
       "  808: 0.16666666666666666,\n",
       "  547: 0.16666666666666666},\n",
       " {451: 0.2, 166: 0.2, 697: 0.2, 821: 0.2, 1017: 0.2}]"
      ]
     },
     "execution_count": 65,
     "metadata": {},
     "output_type": "execute_result"
    }
   ],
   "source": [
    "list(map(rel_freqs, hash_ngrams(all_ngrams('Stanna!'), MAXES)))"
   ]
  },
  {
   "cell_type": "code",
   "execution_count": 66,
   "metadata": {},
   "outputs": [
    {
     "data": {
      "text/plain": [
       "tensor([[ 234,  310,  331,  333,  432,  533, 1068, 1124, 1170, 1329, 1391, 1718,\n",
       "         2003, 2249, 2373, 2569]])"
      ]
     },
     "execution_count": 66,
     "metadata": {},
     "output_type": "execute_result"
    }
   ],
   "source": [
    "torch.nonzero(X_train[30316]).T"
   ]
  },
  {
   "cell_type": "code",
   "execution_count": 67,
   "metadata": {},
   "outputs": [
    {
     "data": {
      "text/plain": [
       "tensor([[0.2857, 0.2857, 0.1429, 0.1429, 0.1429, 0.1667, 0.1667, 0.1667, 0.1667,\n",
       "         0.1667, 0.1667, 0.2000, 0.2000, 0.2000, 0.2000, 0.2000]])"
      ]
     },
     "execution_count": 67,
     "metadata": {},
     "output_type": "execute_result"
    }
   ],
   "source": [
    "X_train[30316, torch.nonzero(X_train[30316])].T"
   ]
  },
  {
   "cell_type": "markdown",
   "metadata": {},
   "source": [
    "## Results\n",
    "\n",
    "You will report your results for the different methods you tried. You are only required to process the small dataset.\n",
    "\n",
    "\n",
    "| Method   |      Corpus      |  Encoding | Macro F1: Val. set| Macro F1: Test set|\n",
    "|----------|:-------------|:------|------:|------:|\n",
    "| Logistic regression |  Small | Booleans | 0.9041 | 0.9082 |\n",
    "| Logistic regression |  Small |    Frequencies |0.9271|0.9347|\n",
    "| Neural network |  Small | Booleans |0.8860|0.8820|\n",
    "| Neural network |  Small |    Frequencies |0.9039|0.9026|\n",
    "    "
   ]
  },
  {
   "cell_type": "markdown",
   "metadata": {},
   "source": []
  },
  {
   "cell_type": "markdown",
   "metadata": {},
   "source": []
  },
  {
   "cell_type": "markdown",
   "metadata": {},
   "source": [
    "Higher chance of overfitting in Neural Network due to more parameters used in a neural netowrk"
   ]
  }
 ],
 "metadata": {
  "kernelspec": {
   "display_name": "Python 3",
   "language": "python",
   "name": "python3"
  },
  "language_info": {
   "codemirror_mode": {
    "name": "ipython",
    "version": 3
   },
   "file_extension": ".py",
   "mimetype": "text/x-python",
   "name": "python",
   "nbconvert_exporter": "python",
   "pygments_lexer": "ipython3",
   "version": "3.13.0"
  },
  "orig_nbformat": 4
 },
 "nbformat": 4,
 "nbformat_minor": 2
}
